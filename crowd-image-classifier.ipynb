{
 "cells": [
  {
   "cell_type": "markdown",
   "metadata": {},
   "source": [
    "## Homework 3 - Crowd Image Classification\n"
   ]
  },
  {
   "cell_type": "code",
   "execution_count": 1,
   "metadata": {
    "_cell_guid": "b1076dfc-b9ad-4769-8c92-a6c4dae69d19",
    "_uuid": "8f2839f25d086af736a60e9eeb907d3b93b6e0e5"
   },
   "outputs": [],
   "source": [
    "'''\n",
    "******************************************************************************\n",
    "  CSE-512-Machine Learning HW3 Question 2\n",
    "  Name: Rishabh Goel\n",
    "  SBU Id : 112714848\n",
    "  Email Id: rishabh.goel@stonybrook.edu\n",
    "*******************************************************************************\n",
    "'''\n",
    "\n",
    "import numpy as np # linear algebra\n",
    "import pandas as pd # data processing, CSV file I/O (e.g. pd.read_csv)\n",
    "\n",
    "import matplotlib.pyplot as plt\n",
    "import math\n",
    "from math import exp\n",
    "from sklearn.metrics import confusion_matrix\n",
    "\n",
    "import warnings  \n",
    "warnings.filterwarnings('ignore')"
   ]
  },
  {
   "cell_type": "markdown",
   "metadata": {},
   "source": [
    "**Loading data**"
   ]
  },
  {
   "cell_type": "code",
   "execution_count": 27,
   "metadata": {
    "_cell_guid": "79c7e3d0-c299-4dcb-8224-4455121ee9b0",
    "_uuid": "d629ff2d2480ee46fbb7e2d37f6b5fab8052498a"
   },
   "outputs": [],
   "source": [
    "# train data\n",
    "train = pd.read_pickle('/kaggle/input/cse512hw3/Train_Features.pkl')\n",
    "# validation data\n",
    "val = pd.read_pickle('/kaggle/input/cse512hw3/Val_Features.pkl')\n",
    "# test data\n",
    "test = pd.read_pickle('/kaggle/input/cse512hw3/Test_Features.pkl')\n",
    "# train labels\n",
    "train_lbl_data = pd.read_csv('/kaggle/input/cse512hw3/Train_Labels.csv')\n",
    "# validation labels\n",
    "val_lbl_data = pd.read_csv('/kaggle/input/cse512hw3/Val_Labels.csv')"
   ]
  },
  {
   "cell_type": "code",
   "execution_count": 28,
   "metadata": {},
   "outputs": [],
   "source": [
    "train_lbl={}\n",
    "for index, row in train_lbl_data.iterrows():\n",
    "    train_lbl[row['Id']] = row['Category']\n",
    "val_lbl={}\n",
    "for index, row in val_lbl_data.iterrows():\n",
    "    val_lbl[row['Id']] = row['Category']"
   ]
  },
  {
   "cell_type": "code",
   "execution_count": 29,
   "metadata": {},
   "outputs": [],
   "source": [
    "# combined train and validation data\n",
    "train_val = {**train, **val}\n",
    "\n",
    "# combined train and validation labels\n",
    "train_val_lbl = {**train_lbl, **val_lbl}"
   ]
  },
  {
   "cell_type": "markdown",
   "metadata": {},
   "source": [
    "**Normalization functions**"
   ]
  },
  {
   "cell_type": "code",
   "execution_count": 30,
   "metadata": {},
   "outputs": [],
   "source": [
    "def sum_normalize(data):\n",
    "    factor = 1.0/sum(data.values())\n",
    "    for k in data:\n",
    "        data[k] = data[k]*factor\n",
    "    return data\n",
    "\n",
    "def l1_normalize(data):\n",
    "    l1=0\n",
    "    for n in list(data.values()):\n",
    "        l1=l1+abs(n)\n",
    "    for k in data:\n",
    "        data[k] = data[k]/l1\n",
    "    return data\n",
    "\n",
    "def l2_normalize(data):\n",
    "    l2=0\n",
    "    for n in list(data.values()):\n",
    "        l2=l2+(n*n)\n",
    "    l2=np.sqrt(l2)\n",
    "    for k in data:\n",
    "        data[k] = data[k]/l2\n",
    "    return data\n",
    "\n",
    "def min_max_normalize(data):\n",
    "    for k in data:\n",
    "         data[k] = (data[k]-min(data[k]))/(max(data[k])-min(data[k]))\n",
    "    return data"
   ]
  },
  {
   "cell_type": "code",
   "execution_count": 31,
   "metadata": {},
   "outputs": [],
   "source": [
    "train_val = sum_normalize(train_val)\n",
    "train = sum_normalize(train)\n",
    "val = sum_normalize(val)\n",
    "test = sum_normalize(test)"
   ]
  },
  {
   "cell_type": "code",
   "execution_count": 32,
   "metadata": {},
   "outputs": [],
   "source": [
    "train_val = min_max_normalize(train_val)\n",
    "train = min_max_normalize(train)\n",
    "val = min_max_normalize(val)\n",
    "test = min_max_normalize(test)"
   ]
  },
  {
   "cell_type": "markdown",
   "metadata": {},
   "source": [
    "## 2.3 Implement Logistic Regression with SGD"
   ]
  },
  {
   "cell_type": "code",
   "execution_count": 33,
   "metadata": {},
   "outputs": [],
   "source": [
    "no_classes = 4"
   ]
  },
  {
   "cell_type": "code",
   "execution_count": 34,
   "metadata": {},
   "outputs": [],
   "source": [
    "# Probability of X[idx] belonging to class c\n",
    "def prob(c, theta, k, idx, X_bar):\n",
    "    num=1\n",
    "    \n",
    "    #P(Y=k|X;θ) = 1/(1+ ∑ⱼ₌₁ₜₒₖ₋₁ exp(θᵢᵀX̄)) for j = 1, · · · , k − 1\n",
    "    if c==k-1:\n",
    "        den =  1\n",
    "        for t in range(0,k-1):\n",
    "            den = den + exp(np.dot(theta[t].T,list(X_bar.values())[idx]))\n",
    "    #P(Y=c|X;θ) = exp(θᵢᵀX̄)/(1+ ∑ⱼ₌₁ₜₒₖ₋₁ exp(θᵢᵀX̄)) for j = 1, · · · , k − 1\n",
    "    else:\n",
    "        div =  np.dot(theta[c].T,list(X_bar.values())[idx])\n",
    "        den =  exp(-np.dot(theta[c].T,list(X_bar.values())[idx]))\n",
    "        for t in range(0,k-1):\n",
    "            den = den + exp(np.dot(theta[t].T,list(X_bar.values())[idx])-div)\n",
    "    return (num/den)"
   ]
  },
  {
   "cell_type": "code",
   "execution_count": 35,
   "metadata": {},
   "outputs": [],
   "source": [
    "'''Loss function L(θ) = (−1/n)∑ᵢ₌₁ₜₒₙlog(P(Yᵢ|X̄ᵢ;θ)).'''\n",
    "def L(theta,X):\n",
    "    sum1=0\n",
    "    for i in range(0,len(X)):\n",
    "        for c in range(0,4):\n",
    "            sum1=sum1+np.log(prob(c,theta,4,i,X))\n",
    "    return (-sum1/(len(X)))"
   ]
  },
  {
   "cell_type": "code",
   "execution_count": 36,
   "metadata": {},
   "outputs": [],
   "source": [
    "def accuracy(coef):\n",
    "    correct_predict=0\n",
    "    for i in range(0,len(val)):\n",
    "        max_prob=0\n",
    "        pred_class=0\n",
    "        for c in range(0,4):\n",
    "            p = prob(c,coef,4,i,val)\n",
    "            if(p>max_prob):\n",
    "                max_prob=p\n",
    "                pred_class=c+1\n",
    "        correct_predict = correct_predict + (val_lbl[list(val.keys())[i]]==pred_class)\n",
    "    return (correct_predict/len(val))"
   ]
  },
  {
   "cell_type": "code",
   "execution_count": 37,
   "metadata": {},
   "outputs": [],
   "source": [
    "# Yield successive n-sized chunks from l.\n",
    "def chunks(l, n):\n",
    "    for i in range(0, len(l), n):\n",
    "        yield l[i:i + n]\n",
    "\n",
    "# Estimate logistic regression coefficients using stochastic gradient descent\n",
    "def coefficients_sgd(X, Y, m, n0, n1, max_epoch, delta):\n",
    "    no_feat=len(list(X.values())[0])\n",
    "    #for key in X.keys():\n",
    "    #    X[key] = np.append(X[key],1)\n",
    "    theta_old = np.ones((no_classes,no_feat))   # Initializing θᵒˡᵈ\n",
    "    theta_new = np.ones((no_classes,no_feat))   # Initializing θⁿᵉʷ\n",
    "    L_df = pd.DataFrame(columns={'epoch','L_theta'})  # dataframe to store results like epoch taken and final value of loss function\n",
    "    X_list = list(X.values())\n",
    "    epoch_taken=0\n",
    "    for epoch in range(1,max_epoch+1):    # 2. for epoch = 1, 2, ..., max epoch do\n",
    "        epoch_taken = epoch\n",
    "        theta_old = theta_new.copy()  # Updating theta\n",
    "        n = n0/(n1+epoch)    # 3. η ← η0/(η1 + epoch)\n",
    "        permute = np.random.permutation(len(X))   # 4. (i1, ..., in) = permute(1, ..., n)\n",
    "        batches = list(chunks(permute,m))  # 5. Divide (i1, ..., in) into batches of size m or m + 1\n",
    "        \n",
    "        for batch in batches:     # 6. for each batch B do\n",
    "            for c in range(0,no_classes):\n",
    "                batch_sum=np.zeros((1,no_feat))  # Initializing batch sum\n",
    "                for idx in batch:\n",
    "                    '''∂log(P(Yᵢ|X̄ᵢ; θ))/∂θ𝒸 = (δ(c=Yᵢ) − P(c|X̄ᵢ;θ))X̄ᵢ'''\n",
    "                    gradient = np.dot(((Y[list(X.keys())[idx]]-1==c)-prob(c,theta_new,no_classes,idx,X)),X_list[idx])\n",
    "                    batch_sum = batch_sum + gradient\n",
    "                theta_new[c] = theta_new[c] + n*(batch_sum/len(batch))      # 7: Update θ using Eqs. (5) and (7)\n",
    "        \n",
    "        L_df = L_df.append({'epoch' : epoch, 'L_theta' : L(theta_new,X), 'accuracy' : accuracy(theta_new)},ignore_index=True)\n",
    "        if L(theta_new,X) > (1-delta)*L(theta_old,X):   # 8. Break if L(θⁿᵉʷ) > (1 − δ)L(θᵒˡᵈ) // not much progress, terminate\n",
    "            break\n",
    "    return (theta_old,epoch_taken,L_df)   # 9. Outputs: θ."
   ]
  },
  {
   "cell_type": "markdown",
   "metadata": {},
   "source": [
    "**2.3.1** Run your implementation on the provided training data with max epoch = 1000, m =\n",
    "16, η0 = 0.1, η1 = 1, δ = 0.00001."
   ]
  },
  {
   "cell_type": "code",
   "execution_count": null,
   "metadata": {},
   "outputs": [],
   "source": [
    "# Run this the first time, then comment it and just load results from the next cell.\n",
    "# Calculate coefficients\n",
    "m = 16  \n",
    "n0 = 0.1   \n",
    "n1 = 1.0\n",
    "max_epoch = 1000\n",
    "delta = 0.00001\n",
    "(coef,epoch_taken,train_L_df) = coefficients_sgd(train, train_lbl, m, n0, n1, max_epoch, delta)\n",
    "train_L_df.to_csv('Q1.csv',index=False)"
   ]
  },
  {
   "cell_type": "markdown",
   "metadata": {},
   "source": [
    "(a) Report the number of epochs that your algorithm takes before exiting <br>\n",
    "(b) Plot the curve showing L(θ) as a function of epoch. <br>\n",
    "(c) What is the final value of L(θ) after the optimization?"
   ]
  },
  {
   "cell_type": "code",
   "execution_count": 38,
   "metadata": {},
   "outputs": [],
   "source": [
    "# Use results from previously trained data\n",
    "train_L_df = pd.read_csv('/kaggle/input/output/Q1.csv')"
   ]
  },
  {
   "cell_type": "code",
   "execution_count": 39,
   "metadata": {},
   "outputs": [
    {
     "name": "stdout",
     "output_type": "stream",
     "text": [
      "No of epoch taken 34.0\n",
      "Final value of L(θ) after the optimization 8.179215080705807\n"
     ]
    },
    {
     "data": {
      "image/png": "[encoded data removed]",
      "text/plain": [
       "<Figure size 1080x720 with 1 Axes>"
      ]
     },
     "metadata": {
      "needs_background": "light"
     },
     "output_type": "display_data"
    }
   ],
   "source": [
    "print(f'No of epoch taken {train_L_df.iloc[-2][\"epoch\"]}')\n",
    "print(f'Final value of L(θ) after the optimization {train_L_df.iloc[-2][\"L_theta\"]}')\n",
    "ax = train_L_df.plot.line(x='epoch', y='L_theta')\n",
    "ax.set_xlabel(\"epoch\")\n",
    "ax.set_ylabel(\"L(θ)\")\n",
    "ax.set_title(\"L(θ) vs epoch\")\n",
    "#plt.xscale('log',basex=10) \n",
    "plt.rcParams['figure.figsize'] = [15, 10]"
   ]
  },
  {
   "cell_type": "markdown",
   "metadata": {},
   "source": [
    "**2.3.2** Keep m = 16, δ = 0.00001, experiment with different values of η0 and η1. Can you find a\n",
    "pair of parameters (η0, η1) that leads to faster convergence?"
   ]
  },
  {
   "cell_type": "code",
   "execution_count": null,
   "metadata": {},
   "outputs": [],
   "source": [
    "# Run this the first time, then comment it and just load results from the next cell.\n",
    "m = 16      \n",
    "max_epoch = 1000\n",
    "delta = 0.00001\n",
    "\n",
    "# Trying different combinations of n0 and n1\n",
    "n0s = np.arange(0.1, 1.0, 0.2)\n",
    "n1s = np.arange(0.1, 1.0, 0.2)\n",
    "\n",
    "optimal_df = pd.DataFrame(columns={'n0','n1','epoch','L_theta'})\n",
    "\n",
    "for n0 in n0s:\n",
    "    for n1 in n1s:\n",
    "        (coef,epoch_taken,L_df) = coefficients_sgd(train, train_lbl, m, n0, n1, max_epoch, delta)\n",
    "        optimal_df = optimal_df.append({'n0' : n0 , 'n1' : n1, 'epoch' : epoch_taken, 'L_theta' : L(coef,train)},ignore_index=True)\n",
    "optimal_df.to_csv('Q2.csv',index=False)"
   ]
  },
  {
   "cell_type": "markdown",
   "metadata": {},
   "source": [
    "(a) Report the values of (η0, η1). How many epochs does it take? What is the final value of L(θ)? <br>\n",
    "(b) Plot the curve showing L(θ) as a function of epoch."
   ]
  },
  {
   "cell_type": "code",
   "execution_count": 40,
   "metadata": {},
   "outputs": [
    {
     "data": {
      "text/html": [
       "<div>\n",
       "<style scoped>\n",
       "    .dataframe tbody tr th:only-of-type {\n",
       "        vertical-align: middle;\n",
       "    }\n",
       "\n",
       "    .dataframe tbody tr th {\n",
       "        vertical-align: top;\n",
       "    }\n",
       "\n",
       "    .dataframe thead th {\n",
       "        text-align: right;\n",
       "    }\n",
       "</style>\n",
       "<table border=\"1\" class=\"dataframe\">\n",
       "  <thead>\n",
       "    <tr style=\"text-align: right;\">\n",
       "      <th></th>\n",
       "      <th>n0</th>\n",
       "      <th>n1</th>\n",
       "      <th>epoch</th>\n",
       "      <th>L_theta</th>\n",
       "    </tr>\n",
       "  </thead>\n",
       "  <tbody>\n",
       "    <tr>\n",
       "      <td>0</td>\n",
       "      <td>0.9</td>\n",
       "      <td>0.5</td>\n",
       "      <td>2</td>\n",
       "      <td>7.834536</td>\n",
       "    </tr>\n",
       "    <tr>\n",
       "      <td>1</td>\n",
       "      <td>0.7</td>\n",
       "      <td>0.3</td>\n",
       "      <td>3</td>\n",
       "      <td>6.696355</td>\n",
       "    </tr>\n",
       "    <tr>\n",
       "      <td>2</td>\n",
       "      <td>0.7</td>\n",
       "      <td>0.5</td>\n",
       "      <td>3</td>\n",
       "      <td>6.698894</td>\n",
       "    </tr>\n",
       "    <tr>\n",
       "      <td>3</td>\n",
       "      <td>0.7</td>\n",
       "      <td>0.1</td>\n",
       "      <td>3</td>\n",
       "      <td>6.708297</td>\n",
       "    </tr>\n",
       "    <tr>\n",
       "      <td>4</td>\n",
       "      <td>0.7</td>\n",
       "      <td>0.7</td>\n",
       "      <td>4</td>\n",
       "      <td>6.568831</td>\n",
       "    </tr>\n",
       "    <tr>\n",
       "      <td>5</td>\n",
       "      <td>0.7</td>\n",
       "      <td>0.9</td>\n",
       "      <td>4</td>\n",
       "      <td>6.593851</td>\n",
       "    </tr>\n",
       "    <tr>\n",
       "      <td>6</td>\n",
       "      <td>0.5</td>\n",
       "      <td>0.1</td>\n",
       "      <td>4</td>\n",
       "      <td>6.653025</td>\n",
       "    </tr>\n",
       "    <tr>\n",
       "      <td>7</td>\n",
       "      <td>0.9</td>\n",
       "      <td>0.3</td>\n",
       "      <td>4</td>\n",
       "      <td>6.654438</td>\n",
       "    </tr>\n",
       "    <tr>\n",
       "      <td>8</td>\n",
       "      <td>0.9</td>\n",
       "      <td>0.1</td>\n",
       "      <td>5</td>\n",
       "      <td>6.784653</td>\n",
       "    </tr>\n",
       "    <tr>\n",
       "      <td>9</td>\n",
       "      <td>0.3</td>\n",
       "      <td>0.5</td>\n",
       "      <td>5</td>\n",
       "      <td>7.216769</td>\n",
       "    </tr>\n",
       "    <tr>\n",
       "      <td>10</td>\n",
       "      <td>0.5</td>\n",
       "      <td>0.3</td>\n",
       "      <td>6</td>\n",
       "      <td>6.544366</td>\n",
       "    </tr>\n",
       "    <tr>\n",
       "      <td>11</td>\n",
       "      <td>0.9</td>\n",
       "      <td>0.9</td>\n",
       "      <td>6</td>\n",
       "      <td>6.589432</td>\n",
       "    </tr>\n",
       "    <tr>\n",
       "      <td>12</td>\n",
       "      <td>0.9</td>\n",
       "      <td>0.7</td>\n",
       "      <td>6</td>\n",
       "      <td>6.605465</td>\n",
       "    </tr>\n",
       "    <tr>\n",
       "      <td>13</td>\n",
       "      <td>0.3</td>\n",
       "      <td>0.1</td>\n",
       "      <td>7</td>\n",
       "      <td>6.726477</td>\n",
       "    </tr>\n",
       "    <tr>\n",
       "      <td>14</td>\n",
       "      <td>0.5</td>\n",
       "      <td>0.5</td>\n",
       "      <td>8</td>\n",
       "      <td>6.567360</td>\n",
       "    </tr>\n",
       "    <tr>\n",
       "      <td>15</td>\n",
       "      <td>0.5</td>\n",
       "      <td>0.7</td>\n",
       "      <td>8</td>\n",
       "      <td>6.585250</td>\n",
       "    </tr>\n",
       "    <tr>\n",
       "      <td>16</td>\n",
       "      <td>0.5</td>\n",
       "      <td>0.9</td>\n",
       "      <td>9</td>\n",
       "      <td>6.577870</td>\n",
       "    </tr>\n",
       "    <tr>\n",
       "      <td>17</td>\n",
       "      <td>0.3</td>\n",
       "      <td>0.7</td>\n",
       "      <td>9</td>\n",
       "      <td>6.953254</td>\n",
       "    </tr>\n",
       "    <tr>\n",
       "      <td>18</td>\n",
       "      <td>0.3</td>\n",
       "      <td>0.3</td>\n",
       "      <td>10</td>\n",
       "      <td>6.656214</td>\n",
       "    </tr>\n",
       "    <tr>\n",
       "      <td>19</td>\n",
       "      <td>0.3</td>\n",
       "      <td>0.9</td>\n",
       "      <td>10</td>\n",
       "      <td>6.963478</td>\n",
       "    </tr>\n",
       "    <tr>\n",
       "      <td>20</td>\n",
       "      <td>0.1</td>\n",
       "      <td>0.1</td>\n",
       "      <td>13</td>\n",
       "      <td>8.214142</td>\n",
       "    </tr>\n",
       "    <tr>\n",
       "      <td>21</td>\n",
       "      <td>0.1</td>\n",
       "      <td>0.3</td>\n",
       "      <td>15</td>\n",
       "      <td>8.273938</td>\n",
       "    </tr>\n",
       "    <tr>\n",
       "      <td>22</td>\n",
       "      <td>0.1</td>\n",
       "      <td>0.7</td>\n",
       "      <td>23</td>\n",
       "      <td>8.256895</td>\n",
       "    </tr>\n",
       "    <tr>\n",
       "      <td>23</td>\n",
       "      <td>0.1</td>\n",
       "      <td>0.5</td>\n",
       "      <td>29</td>\n",
       "      <td>8.054169</td>\n",
       "    </tr>\n",
       "    <tr>\n",
       "      <td>24</td>\n",
       "      <td>0.1</td>\n",
       "      <td>0.9</td>\n",
       "      <td>32</td>\n",
       "      <td>8.182914</td>\n",
       "    </tr>\n",
       "  </tbody>\n",
       "</table>\n",
       "</div>"
      ],
      "text/plain": [
       "     n0   n1  epoch   L_theta\n",
       "0   0.9  0.5      2  7.834536\n",
       "1   0.7  0.3      3  6.696355\n",
       "2   0.7  0.5      3  6.698894\n",
       "3   0.7  0.1      3  6.708297\n",
       "4   0.7  0.7      4  6.568831\n",
       "5   0.7  0.9      4  6.593851\n",
       "6   0.5  0.1      4  6.653025\n",
       "7   0.9  0.3      4  6.654438\n",
       "8   0.9  0.1      5  6.784653\n",
       "9   0.3  0.5      5  7.216769\n",
       "10  0.5  0.3      6  6.544366\n",
       "11  0.9  0.9      6  6.589432\n",
       "12  0.9  0.7      6  6.605465\n",
       "13  0.3  0.1      7  6.726477\n",
       "14  0.5  0.5      8  6.567360\n",
       "15  0.5  0.7      8  6.585250\n",
       "16  0.5  0.9      9  6.577870\n",
       "17  0.3  0.7      9  6.953254\n",
       "18  0.3  0.3     10  6.656214\n",
       "19  0.3  0.9     10  6.963478\n",
       "20  0.1  0.1     13  8.214142\n",
       "21  0.1  0.3     15  8.273938\n",
       "22  0.1  0.7     23  8.256895\n",
       "23  0.1  0.5     29  8.054169\n",
       "24  0.1  0.9     32  8.182914"
      ]
     },
     "execution_count": 40,
     "metadata": {},
     "output_type": "execute_result"
    }
   ],
   "source": [
    "# Use results from previously trained data\n",
    "combo_L_df = pd.read_csv('/kaggle/input/output/Q2.csv')\n",
    "combo_L_df"
   ]
  },
  {
   "cell_type": "code",
   "execution_count": null,
   "metadata": {},
   "outputs": [],
   "source": [
    "# Run this the first time, then comment it and just load results from the next cell.\n",
    "# Calculate coefficients\n",
    "m = 16      \n",
    "n0 = 0.9\n",
    "n1 = 0.5\n",
    "max_epoch = 1000\n",
    "delta = 0.00001\n",
    "(coef,epoch_taken,fast_L_df) = coefficients_sgd(train, train_lbl, m, n0, n1, max_epoch, delta)\n",
    "fast_L_df.to_csv('Q2a.csv',index=False)"
   ]
  },
  {
   "cell_type": "code",
   "execution_count": 3,
   "metadata": {},
   "outputs": [],
   "source": [
    "# Use results from previously trained data\n",
    "fast_L_df = pd.read_csv('/kaggle/input/output/Q2a.csv')"
   ]
  },
  {
   "cell_type": "code",
   "execution_count": 5,
   "metadata": {},
   "outputs": [
    {
     "name": "stdout",
     "output_type": "stream",
     "text": [
      "Convergence is faster for n0 = 0.9 and n1=0.5\n",
      "No of epoch taken 3.0\n",
      "Final value of L(θ) after the optimization 6.8133311822332265\n"
     ]
    },
    {
     "data": {
      "image/png": "[encoded data removed]",
      "text/plain": [
       "<Figure size 1080x720 with 1 Axes>"
      ]
     },
     "metadata": {},
     "output_type": "display_data"
    }
   ],
   "source": [
    "print(f'Convergence is faster for n0 = 0.9 and n1=0.5')\n",
    "print(f'No of epoch taken {fast_L_df.iloc[-2][\"epoch\"]}')\n",
    "print(f'Final value of L(θ) after the optimization {fast_L_df.iloc[-2][\"L_theta\"]}')\n",
    "ax = fast_L_df.plot.line(x='epoch', y='L_theta')\n",
    "ax.set_xlabel(\"optimal_epoch\")\n",
    "ax.set_ylabel(\"L(θ)\")\n",
    "ax.set_title(\"L(θ) vs optimal_epoch\")\n",
    "#plt.xscale('log',basex=10) \n",
    "plt.rcParams['figure.figsize'] = [15, 10]"
   ]
  },
  {
   "cell_type": "markdown",
   "metadata": {},
   "source": [
    "**2.3.3** Evaluate the performance on validation data."
   ]
  },
  {
   "cell_type": "code",
   "execution_count": 46,
   "metadata": {},
   "outputs": [],
   "source": [
    "# Run this the first time, then comment it and just load results from the next cell.\n",
    "# Calculate coefficients\n",
    "m = 16      \n",
    "n0 = 0.9\n",
    "n1 = 0.5\n",
    "max_epoch = 1000\n",
    "delta = 0.00001\n",
    "(coef_t,epoch_taken_t,train_L_df) = coefficients_sgd(train , train_lbl, m, n0, n1, max_epoch, delta)\n",
    "(coef_v,epoch_taken_v,val_L_df)   = coefficients_sgd(val   , val_lbl,   m, n0, n1, max_epoch, delta)\n",
    "val_L_df.to_csv('Q3_val.csv',index=False)\n",
    "train_L_df.to_csv('Q3_train.csv',index=False)"
   ]
  },
  {
   "cell_type": "code",
   "execution_count": 43,
   "metadata": {},
   "outputs": [],
   "source": [
    "# Use results from previously trained data\n",
    "val_L_df = pd.read_csv('/kaggle/input/output/Q3_val.csv')\n",
    "train_L_df = pd.read_csv('/kaggle/input/output/Q3_train.csv')"
   ]
  },
  {
   "cell_type": "markdown",
   "metadata": {},
   "source": [
    "(a) Plot L(θ) as a function of epoch. On the same plot, show two curves, one for training and one\n",
    "for validation data."
   ]
  },
  {
   "cell_type": "code",
   "execution_count": 44,
   "metadata": {},
   "outputs": [
    {
     "data": {
      "image/png": "[encoded data removed]",
      "text/plain": [
       "<Figure size 1080x720 with 1 Axes>"
      ]
     },
     "metadata": {
      "needs_background": "light"
     },
     "output_type": "display_data"
    }
   ],
   "source": [
    "ax = val_L_df.plot.line(x='epoch', y='L_theta',label='validation data')\n",
    "train_L_df.plot.line(x = 'epoch' , y='L_theta', label = 'training data',ax=ax)\n",
    "ax.set_xlabel(\"epoch\")\n",
    "ax.set_ylabel(\"L(θ)\")\n",
    "ax.set_title(\"L(θ) vs epoch\") \n",
    "plt.rcParams['figure.figsize'] = [15, 10]"
   ]
  },
  {
   "cell_type": "markdown",
   "metadata": {},
   "source": [
    "**The above graph is obtained by training on train data and validation data respectively.**"
   ]
  },
  {
   "cell_type": "markdown",
   "metadata": {},
   "source": [
    "(b) Plot the accuracy as a function of epoch. On the same plot, show two curves, one for training\n",
    "and one for validation data."
   ]
  },
  {
   "cell_type": "code",
   "execution_count": 45,
   "metadata": {},
   "outputs": [
    {
     "data": {
      "image/png": "[encoded data removed]",
      "text/plain": [
       "<Figure size 1080x720 with 1 Axes>"
      ]
     },
     "metadata": {
      "needs_background": "light"
     },
     "output_type": "display_data"
    }
   ],
   "source": [
    "ax = val_L_df.plot.line(x='epoch', y='accuracy',label='validation data')\n",
    "train_L_df.plot.line(x = 'epoch' , y='accuracy', label = 'training data',ax=ax)\n",
    "ax.set_xlabel(\"epoch\")\n",
    "ax.set_ylabel(\"accuracy\")\n",
    "ax.set_title(\"accuracy vs epoch\") \n",
    "plt.rcParams['figure.figsize'] = [15, 10]"
   ]
  },
  {
   "cell_type": "markdown",
   "metadata": {},
   "source": [
    "**The above graph is obtained by training on train data and validation data respectively, and then testing on validation data.**"
   ]
  },
  {
   "cell_type": "markdown",
   "metadata": {},
   "source": [
    "**2.3.4** With the learned classifier:\n",
    "(a) Report the confusion matrices on the validation and the training data.\n"
   ]
  },
  {
   "cell_type": "code",
   "execution_count": 47,
   "metadata": {},
   "outputs": [
    {
     "name": "stdout",
     "output_type": "stream",
     "text": [
      "[[179  96  19  22]\n",
      " [118 394  52  96]\n",
      " [ 41 227  68 102]\n",
      " [ 46 181  91 268]]\n"
     ]
    }
   ],
   "source": [
    "y_true=[]\n",
    "y_pred=[]\n",
    "classes=[1,2,3,4]\n",
    "for i in range(0,len(val)):\n",
    "    max_prob=0\n",
    "    max_class=0\n",
    "    for c in range(0,4):\n",
    "        p = prob(c,coef_t,4,i,val)\n",
    "        if(p>max_prob):\n",
    "            max_prob=p\n",
    "            max_class=c+1\n",
    "    y_true.append(val_lbl[list(val.keys())[i]])\n",
    "    y_pred.append(max_class)\n",
    "    \n",
    "print(confusion_matrix(y_true, y_pred, labels=[1,2,3,4]))"
   ]
  },
  {
   "cell_type": "markdown",
   "metadata": {},
   "source": [
    "**We obtain the above confusion matrix after training on train data and evaluating on val data**"
   ]
  },
  {
   "cell_type": "code",
   "execution_count": 48,
   "metadata": {},
   "outputs": [
    {
     "name": "stdout",
     "output_type": "stream",
     "text": [
      "[[175 108  17  16]\n",
      " [102 385  90  83]\n",
      " [ 32 146 157 103]\n",
      " [ 37 116 109 324]]\n"
     ]
    }
   ],
   "source": [
    "y_true=[]\n",
    "y_pred=[]\n",
    "classes=[1,2,3,4]\n",
    "for i in range(0,len(val)):\n",
    "    max_prob=0\n",
    "    max_class=0\n",
    "    for c in range(0,4):\n",
    "        p = prob(c,coef_v,4,i,val)\n",
    "        if(p>max_prob):\n",
    "            max_prob=p\n",
    "            max_class=c+1\n",
    "    y_true.append(val_lbl[list(val.keys())[i]])\n",
    "    y_pred.append(max_class)\n",
    "    \n",
    "print(confusion_matrix(y_true, y_pred, labels=[1,2,3,4]))"
   ]
  },
  {
   "cell_type": "markdown",
   "metadata": {},
   "source": [
    "**We obtain the above confusion matrix after training on val data and evaluating on val data** <br>\n",
    "We observe that the no of correctly predicted classes (the ones on the diagonal) are more here since it was trained and evaluated on the same data."
   ]
  },
  {
   "cell_type": "markdown",
   "metadata": {},
   "source": [
    "**2.4 Submit the result in Kaggle** <br>\n",
    "Run your classifier on the test data and submit the result file on Kaggle (https://www.kaggle.com/c/cse512hw3). Report the best accuracy you obtain on the test data, as returned by\n",
    "the Kaggle website"
   ]
  },
  {
   "cell_type": "code",
   "execution_count": 51,
   "metadata": {},
   "outputs": [],
   "source": [
    "from math import exp \n",
    "# Calculate coefficients\n",
    "m = 16      \n",
    "n0 = 0.9\n",
    "n1 = 0.5\n",
    "max_epoch = 1000\n",
    "delta = 0.00001\n",
    "(coef,epoch_taken,L_df) = coefficients_sgd(train_val, train_val_lbl, m, n0, n1, max_epoch, delta)"
   ]
  },
  {
   "cell_type": "code",
   "execution_count": 52,
   "metadata": {},
   "outputs": [
    {
     "data": {
      "text/html": [
       "<div>\n",
       "<style scoped>\n",
       "    .dataframe tbody tr th:only-of-type {\n",
       "        vertical-align: middle;\n",
       "    }\n",
       "\n",
       "    .dataframe tbody tr th {\n",
       "        vertical-align: top;\n",
       "    }\n",
       "\n",
       "    .dataframe thead th {\n",
       "        text-align: right;\n",
       "    }\n",
       "</style>\n",
       "<table border=\"1\" class=\"dataframe\">\n",
       "  <thead>\n",
       "    <tr style=\"text-align: right;\">\n",
       "      <th></th>\n",
       "      <th>Category</th>\n",
       "      <th>Id</th>\n",
       "    </tr>\n",
       "  </thead>\n",
       "  <tbody>\n",
       "    <tr>\n",
       "      <td>0</td>\n",
       "      <td>2</td>\n",
       "      <td>26-1.jpg</td>\n",
       "    </tr>\n",
       "    <tr>\n",
       "      <td>1</td>\n",
       "      <td>2</td>\n",
       "      <td>117-3.jpg</td>\n",
       "    </tr>\n",
       "    <tr>\n",
       "      <td>2</td>\n",
       "      <td>4</td>\n",
       "      <td>198-10.jpg</td>\n",
       "    </tr>\n",
       "    <tr>\n",
       "      <td>3</td>\n",
       "      <td>2</td>\n",
       "      <td>131-9.jpg</td>\n",
       "    </tr>\n",
       "    <tr>\n",
       "      <td>4</td>\n",
       "      <td>1</td>\n",
       "      <td>193-9.jpg</td>\n",
       "    </tr>\n",
       "    <tr>\n",
       "      <td>...</td>\n",
       "      <td>...</td>\n",
       "      <td>...</td>\n",
       "    </tr>\n",
       "    <tr>\n",
       "      <td>1995</td>\n",
       "      <td>3</td>\n",
       "      <td>137-2.jpg</td>\n",
       "    </tr>\n",
       "    <tr>\n",
       "      <td>1996</td>\n",
       "      <td>4</td>\n",
       "      <td>62-10.jpg</td>\n",
       "    </tr>\n",
       "    <tr>\n",
       "      <td>1997</td>\n",
       "      <td>4</td>\n",
       "      <td>150-10.jpg</td>\n",
       "    </tr>\n",
       "    <tr>\n",
       "      <td>1998</td>\n",
       "      <td>4</td>\n",
       "      <td>184-6.jpg</td>\n",
       "    </tr>\n",
       "    <tr>\n",
       "      <td>1999</td>\n",
       "      <td>4</td>\n",
       "      <td>152-2.jpg</td>\n",
       "    </tr>\n",
       "  </tbody>\n",
       "</table>\n",
       "<p>2000 rows × 2 columns</p>\n",
       "</div>"
      ],
      "text/plain": [
       "     Category          Id\n",
       "0           2    26-1.jpg\n",
       "1           2   117-3.jpg\n",
       "2           4  198-10.jpg\n",
       "3           2   131-9.jpg\n",
       "4           1   193-9.jpg\n",
       "...       ...         ...\n",
       "1995        3   137-2.jpg\n",
       "1996        4   62-10.jpg\n",
       "1997        4  150-10.jpg\n",
       "1998        4   184-6.jpg\n",
       "1999        4   152-2.jpg\n",
       "\n",
       "[2000 rows x 2 columns]"
      ]
     },
     "execution_count": 52,
     "metadata": {},
     "output_type": "execute_result"
    }
   ],
   "source": [
    "result = pd.DataFrame(columns = {'Id','Category'})\n",
    "for i in range(0,len(test)):\n",
    "    max_prob=0\n",
    "    max_class=0\n",
    "    for c in range(0,4):\n",
    "        p = prob(c,coef,4,i,test)\n",
    "        if(p>max_prob):\n",
    "            max_prob=p\n",
    "            max_class=c+1\n",
    "    result = result.append({'Id' : list(test.keys())[i], 'Category' : max_class},ignore_index=True)\n",
    "result.to_csv('results.csv')\n",
    "result"
   ]
  },
  {
   "cell_type": "markdown",
   "metadata": {},
   "source": [
    "**Final results**\n",
    "* I have used both training and validation data to train my model. <br>\n",
    "* I used minmax normalization to normalize the merged data. <br>\n",
    "* I am also using learning rate values obtained from part 2, to achieve faster convergence. <br>\n",
    "* I modified the breaking condition of convergence by making it less strict.\n",
    "* The best accuracy I have received from Kaggle website is around 43.50 %.\n"
   ]
  },
  {
   "cell_type": "markdown",
   "metadata": {},
   "source": [
    "**Failed attempts:**\n",
    "* I tried adding regularization to loss function, but couldn't achieve better performance. It wasn't worst too, but approximately the same.<br>\n",
    "* I tried varying the learning rate after every epoch , in addition to the formula given in pseudo code, but no significant improvements there too. <br>\n",
    "* I tried other types of normalization too, but found minmax to be giving the best performance.\n",
    "* I played around with batch size, but again, not much improvement."
   ]
  }
 ],
 "metadata": {
  "kernelspec": {
   "display_name": "Python 3",
   "language": "python",
   "name": "python3"
  },
  "language_info": {
   "codemirror_mode": {
    "name": "ipython",
    "version": 3
   },
   "file_extension": ".py",
   "mimetype": "text/x-python",
   "name": "python",
   "nbconvert_exporter": "python",
   "pygments_lexer": "ipython3",
   "version": "3.6.5"
  }
 },
 "nbformat": 4,
 "nbformat_minor": 1
}
